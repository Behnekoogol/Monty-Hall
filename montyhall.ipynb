{
 "cells": [
  {
   "cell_type": "markdown",
   "id": "ad36e025-def5-479f-bb5c-8b8ba7e3bb84",
   "metadata": {},
   "source": [
    "# Monty Hall Problem"
   ]
  },
  {
   "cell_type": "code",
   "execution_count": 2,
   "id": "5576df2e-b85c-43f6-80f7-98354517e712",
   "metadata": {},
   "outputs": [],
   "source": [
    "import numpy as np "
   ]
  },
  {
   "cell_type": "code",
   "execution_count": 3,
   "id": "30f40689-31f6-4e39-94b1-f23b2bff66e2",
   "metadata": {},
   "outputs": [],
   "source": [
    "def monty_hall(switch):\n",
    "\n",
    "    # All doors have a goat initially\n",
    "    doors = np.array([0, 0, 0])\n",
    "\n",
    "    # Randomnly decide which door will have a car\n",
    "    winner_index = np.random.randint(0, 3)\n",
    "\n",
    "    # Place the car in the winner door\n",
    "    doors[winner_index] = 1\n",
    "\n",
    "    # Participant selects a door at random\n",
    "    choice = np.random.randint(0, 3)\n",
    "\n",
    "    # Get doors that can be opened (host cannot open the door chosen or the one with the car)\n",
    "    openable_doors = [i for i in range(3) if i not in (winner_index, choice)]\n",
    "\n",
    "    # Host opens one of the available doors at random\n",
    "    door_to_open = np.random.choice(openable_doors)\n",
    "\n",
    "    # Switch to the other available door (the one that is not the original choice or the opened one)\n",
    "    if switch:\n",
    "        choice = [i for i in range(3) if i not in (choice, door_to_open)][0]\n",
    "\n",
    "    # Return 1 if you open a door with a car, 0 otherwise\n",
    "    return doors[choice]"
   ]
  },
  {
   "cell_type": "code",
   "execution_count": 4,
   "id": "d2a08924-3cd0-4067-897c-de5a3d6b4f40",
   "metadata": {},
   "outputs": [
    {
     "data": {
      "text/plain": [
       "1"
      ]
     },
     "execution_count": 4,
     "metadata": {},
     "output_type": "execute_result"
    }
   ],
   "source": [
    "monty_hall(switch=True)"
   ]
  },
  {
   "cell_type": "code",
   "execution_count": 5,
   "id": "8b631fe4-58db-4215-89ce-3208a7447c2b",
   "metadata": {},
   "outputs": [],
   "source": [
    "def success_rate(monty_hall, switch, num_iteration=100):\n",
    "    result = 0\n",
    "    for i in range(num_iteration):\n",
    "      result += monty_hall(switch)\n",
    "    if switch:\n",
    "        sum = print(f\"success rate with switch = True after {num_iteration} iterations is : {result / num_iteration}%\")\n",
    "    else:\n",
    "       sum = print(f\"success rate with switch = False after {num_iteration} iterations is : {result / num_iteration}%\")\n",
    "    return sum"
   ]
  },
  {
   "cell_type": "code",
   "execution_count": 6,
   "id": "6eb45199-01a6-46a2-b885-c1ae41334f6e",
   "metadata": {},
   "outputs": [
    {
     "name": "stdout",
     "output_type": "stream",
     "text": [
      "success rate with switch = True after 1000 iterations is : 0.634%\n"
     ]
    }
   ],
   "source": [
    "success_rate(monty_hall, switch=True, num_iteration=1000)\n",
    "# when we switch our choice we have better chance of winnig the winning door:"
   ]
  },
  {
   "cell_type": "code",
   "execution_count": 8,
   "id": "000cb173-8024-475f-a502-c66bff3a5e42",
   "metadata": {},
   "outputs": [
    {
     "name": "stdout",
     "output_type": "stream",
     "text": [
      "success rate with switch = False after 1000 iterations is : 0.325%\n"
     ]
    }
   ],
   "source": [
    "success_rate(monty_hall, switch=False, num_iteration=1000)\n",
    "# sticking to the old choice will lower the chance of winnig:"
   ]
  },
  {
   "cell_type": "code",
   "execution_count": null,
   "id": "c92dd656-dd9d-4001-9d21-2d72ccad09fc",
   "metadata": {},
   "outputs": [],
   "source": []
  }
 ],
 "metadata": {
  "kernelspec": {
   "display_name": "Python 3 (ipykernel)",
   "language": "python",
   "name": "python3"
  },
  "language_info": {
   "codemirror_mode": {
    "name": "ipython",
    "version": 3
   },
   "file_extension": ".py",
   "mimetype": "text/x-python",
   "name": "python",
   "nbconvert_exporter": "python",
   "pygments_lexer": "ipython3",
   "version": "3.10.0"
  }
 },
 "nbformat": 4,
 "nbformat_minor": 5
}
